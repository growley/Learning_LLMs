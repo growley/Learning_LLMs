{
 "cells": [
  {
   "cell_type": "markdown",
   "id": "fe12c203-e6a6-452c-a655-afb8a03a4ff5",
   "metadata": {},
   "source": [
    "# Ejercicio final de la semana 1\n",
    "\n",
    "Para demostrar que estás familiarizado con la API de OpenAI y también con Ollama, crea una herramienta que responda a una pregunta técnica\n",
    "y la explique. ¡Esta es una herramienta que podrás usar durante el curso!"
   ]
  },
  {
   "cell_type": "code",
   "execution_count": null,
   "id": "95642658-cfce-4bff-bc31-6bb2c70770bd",
   "metadata": {},
   "outputs": [],
   "source": [
    "# imports\n",
    "\n",
    "import requests\n",
    "from IPython.display import Markdown, display\n",
    "import os\n",
    "from dotenv import load_dotenv\n",
    "from openai import OpenAI\n",
    "import ollama"
   ]
  },
  {
   "cell_type": "code",
   "execution_count": null,
   "id": "a92084d9-d4ef-4842-8cda-aaefe58bdc77",
   "metadata": {},
   "outputs": [],
   "source": [
    "# Constantes\n",
    "\n",
    "OLLAMA_API = \"http://localhost:11434/api/chat\"\n",
    "HEADERS = {\"Content-Type\": \"application/json\"}\n",
    "MODEL_LLAMA = \"llama3\"\n",
    "MODEL_GPT = 'gpt-4o-mini'\n",
    "#MODEL = MODEL_GPT      ## Comentar si no se utiliza este modelo\n",
    "MODEL = MODEL_LLAMA     ## Comentar si no se utiliza este modelo"
   ]
  },
  {
   "cell_type": "code",
   "execution_count": null,
   "id": "3ad0244e-def1-4430-9b75-efb47e4ae60a",
   "metadata": {},
   "outputs": [],
   "source": [
    "# Cargamos las variables del fichero .env\n",
    "if MODEL == MODEL_GPT:\n",
    "    load_dotenv()\n",
    "    api_key = os.getenv('OPENAI_API_KEY')\n",
    "    \n",
    "    # Check the key\n",
    "    \n",
    "    if not api_key:\n",
    "        print(\"No se encontró ninguna clave API: diríjase al cuaderno de resolución de problemas en esta carpeta para identificarla y solucionarla.\")\n",
    "    elif not api_key.startswith(\"sk-proj-\"):\n",
    "        print(\"Se encontró una clave API, pero no inicia sk-proj-; verifique que esté usando la clave correcta; consulte el cuaderno de resolución de problemas\")\n",
    "    elif api_key.strip() != api_key:\n",
    "        print(\"Se encontró una clave API, pero parece que puede tener espacios o caracteres de tabulación al principio o al final; elimínelos; consulte el cuaderno de resolución de problemas\")\n",
    "    else:\n",
    "        print(\"¡Se encontró la clave API y hasta ahora parece buena!\")\n"
   ]
  },
  {
   "cell_type": "code",
   "execution_count": null,
   "id": "f52605fa-d265-4c35-b753-15ba1adbf961",
   "metadata": {},
   "outputs": [],
   "source": [
    "if MODEL == MODEL_GPT:\n",
    "    openai = OpenAI()\n",
    " # Generamos un objeto de OpenAI solo si se va a utilizar"
   ]
  },
  {
   "cell_type": "code",
   "execution_count": null,
   "id": "3dfce901-33bd-4be1-abd9-9807732abfd7",
   "metadata": {},
   "outputs": [],
   "source": [
    "# Aquí está la pregunta; escribe sobre esto para preguntar algo nuevo\n",
    "\n",
    "question = \" Explica qué hace este código y por qué: yield from {book.get(\\\"author\\\") for book in books if book.get(\\\"author\\\")}\"\n"
   ]
  },
  {
   "cell_type": "code",
   "execution_count": null,
   "id": "242950c6-b71f-42b7-8582-f29de26c04d0",
   "metadata": {},
   "outputs": [],
   "source": [
    "# Crea una lista de mensajes utilizando el mismo formato que usamos para OpenAI\n",
    "\n",
    "messages = [\n",
    "    {\"role\": \"user\", \"content\": question}\n",
    "]"
   ]
  },
  {
   "cell_type": "code",
   "execution_count": null,
   "id": "09c8bbac-691f-4d4e-aedb-ef48edc238dc",
   "metadata": {},
   "outputs": [],
   "source": [
    "payload = {\n",
    "        \"model\": MODEL,\n",
    "        \"messages\": messages,\n",
    "        \"stream\": True\n",
    "    }"
   ]
  },
  {
   "cell_type": "code",
   "execution_count": null,
   "id": "4f0b17aa-7aeb-4d96-94ef-567e00717499",
   "metadata": {},
   "outputs": [],
   "source": [
    "#response = requests.post(OLLAMA_API, json=payload, headers=HEADERS)\n",
    "#print(response.json()['message']['content'])\n",
    "### Otra forma de hacer. Lo guardo en el cuaderno como información complementaria"
   ]
  },
  {
   "cell_type": "code",
   "execution_count": null,
   "id": "8242085f-efbe-4ffe-bd24-2568f89e85d9",
   "metadata": {},
   "outputs": [],
   "source": [
    "# Y ahora: llama a la API de OpenAI. ¡Te resultará muy familiar!\n",
    "if MODEL == MODEL_GPT:\n",
    "    def summarize(question):\n",
    "        response = openai.chat.completions.create(\n",
    "            model = \"gpt-4o-mini\",\n",
    "            messages = messages\n",
    "        )\n",
    "        return response.choices[0].message.content"
   ]
  },
  {
   "cell_type": "code",
   "execution_count": null,
   "id": "c065165e-ab47-4d1e-96dc-95ea6d22093f",
   "metadata": {},
   "outputs": [],
   "source": [
    "if MODEL == MODEL_GPT:\n",
    "    def display_summary(question):\n",
    "        summary = summarize(question)\n",
    "        print(\"Modelo usado: \" , MODEL , \"\\n \\n\")\n",
    "        display(Markdown(summary))\n",
    "\n",
    "# Solo si el modelo de OPENAI se utiliza, se cargará este código. Generará la salida a solicitud."
   ]
  },
  {
   "cell_type": "code",
   "execution_count": null,
   "id": "bcb1ed21-c0c4-4836-831b-5ba94bc4c0b0",
   "metadata": {},
   "outputs": [],
   "source": [
    "if MODEL == MODEL_GPT:\n",
    "    display_summary(question)\n",
    "# Hace la llamada al código de OpenAI, si ese es el modelo escogido."
   ]
  },
  {
   "cell_type": "code",
   "execution_count": null,
   "id": "e3959f91-8f75-4476-a1a3-45e8fc0d28f2",
   "metadata": {},
   "outputs": [],
   "source": [
    "if MODEL == MODEL_LLAMA:\n",
    "    response = ollama.chat(model=MODEL, messages=messages)\n",
    "    print(\"Modelo usado: \" , MODEL , \"\\n \\n\")\n",
    "    display(Markdown(response['message']['content']))\n",
    "    #Hace la llamada a LLama, si ese es el modelo escogido\n",
    "    "
   ]
  },
  {
   "cell_type": "code",
   "execution_count": null,
   "id": "4138f92e-1a26-4d44-a032-fb7ab4fcf8e1",
   "metadata": {},
   "outputs": [],
   "source": []
  },
  {
   "cell_type": "code",
   "execution_count": null,
   "id": "01e795a3-9a5b-4b67-99ab-f5cec95ab4d8",
   "metadata": {},
   "outputs": [],
   "source": []
  }
 ],
 "metadata": {
  "kernelspec": {
   "display_name": "Python 3 (ipykernel)",
   "language": "python",
   "name": "python3"
  },
  "language_info": {
   "codemirror_mode": {
    "name": "ipython",
    "version": 3
   },
   "file_extension": ".py",
   "mimetype": "text/x-python",
   "name": "python",
   "nbconvert_exporter": "python",
   "pygments_lexer": "ipython3",
   "version": "3.11.11"
  }
 },
 "nbformat": 4,
 "nbformat_minor": 5
}
